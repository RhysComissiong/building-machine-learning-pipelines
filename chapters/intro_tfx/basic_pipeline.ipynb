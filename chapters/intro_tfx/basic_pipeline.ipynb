{
 "cells": [
  {
   "cell_type": "code",
   "execution_count": 1,
   "id": "5ae4c0d7",
   "metadata": {},
   "outputs": [],
   "source": [
    "import apache_beam as beam\n",
    "import re"
   ]
  },
  {
   "cell_type": "code",
   "execution_count": 2,
   "id": "9e320d1c",
   "metadata": {},
   "outputs": [],
   "source": [
    "inputs_pattern = 'data/*'\n",
    "outputs_prefix = 'outputs/part'"
   ]
  },
  {
   "cell_type": "code",
   "execution_count": 3,
   "id": "74f3a38d",
   "metadata": {},
   "outputs": [
    {
     "data": {
      "application/javascript": [
       "\n",
       "        if (typeof window.interactive_beam_jquery == 'undefined') {\n",
       "          var jqueryScript = document.createElement('script');\n",
       "          jqueryScript.src = 'https://code.jquery.com/jquery-3.4.1.slim.min.js';\n",
       "          jqueryScript.type = 'text/javascript';\n",
       "          jqueryScript.onload = function() {\n",
       "            var datatableScript = document.createElement('script');\n",
       "            datatableScript.src = 'https://cdn.datatables.net/1.10.20/js/jquery.dataTables.min.js';\n",
       "            datatableScript.type = 'text/javascript';\n",
       "            datatableScript.onload = function() {\n",
       "              window.interactive_beam_jquery = jQuery.noConflict(true);\n",
       "              window.interactive_beam_jquery(document).ready(function($){\n",
       "                \n",
       "              });\n",
       "            }\n",
       "            document.head.appendChild(datatableScript);\n",
       "          };\n",
       "          document.head.appendChild(jqueryScript);\n",
       "        } else {\n",
       "          window.interactive_beam_jquery(document).ready(function($){\n",
       "            \n",
       "          });\n",
       "        }"
      ]
     },
     "metadata": {},
     "output_type": "display_data"
    },
    {
     "name": "stderr",
     "output_type": "stream",
     "text": [
      "WARNING:root:Make sure that locally built Python SDK docker image has Python 3.7 interpreter.\n",
      "WARNING:apache_beam.io.filebasedsink:Deleting 1 existing files in target path matching: -*-of-%(num_shards)05d\n"
     ]
    }
   ],
   "source": [
    "# Running locally in the DirectRunner\n",
    "with beam.Pipeline('DirectRunner') as pipeline:\n",
    "\n",
    "        lines = pipeline | 'Read lines' >> beam.io.ReadFromText(inputs_pattern) #input pcollection\n",
    "        \n",
    "        counts = (lines | 'Find words' >> beam.FlatMap(lambda line: re.findall(r\"[a-zA-Z']+\", line))\n",
    "                        | 'Pair words with 1' >> beam.Map(lambda word: (word,1))\n",
    "                        | 'Group and sum' >> beam.CombinePerKey(sum)) # chained ptransformation\n",
    "        \n",
    "        output = counts | 'Format results' >> beam.Map(lambda word_count: str(word_count)) # ptransformation\n",
    "        \n",
    "        output | 'Write results' >> beam.io.WriteToText(outputs_prefix) # output pcollection\n"
   ]
  },
  {
   "cell_type": "code",
   "execution_count": 4,
   "id": "0df51eef",
   "metadata": {},
   "outputs": [],
   "source": [
    "# Run and print a shell command.\n",
    "def run(cmd):\n",
    "  print('>> {}'.format(cmd))\n",
    "  !{cmd}\n",
    "  print('')"
   ]
  },
  {
   "cell_type": "code",
   "execution_count": 5,
   "id": "7a16a8b7",
   "metadata": {
    "scrolled": true
   },
   "outputs": [
    {
     "name": "stdout",
     "output_type": "stream",
     "text": [
      ">> head -n 20 outputs/part-00000-of-*\n",
      "('KING', 243)\n",
      "('LEAR', 236)\n",
      "('DRAMATIS', 1)\n",
      "('PERSONAE', 1)\n",
      "('king', 65)\n",
      "('of', 447)\n",
      "('Britain', 2)\n",
      "('OF', 15)\n",
      "('FRANCE', 10)\n",
      "('DUKE', 3)\n",
      "('BURGUNDY', 8)\n",
      "('CORNWALL', 63)\n",
      "('ALBANY', 67)\n",
      "('EARL', 2)\n",
      "('KENT', 156)\n",
      "('GLOUCESTER', 141)\n",
      "('EDGAR', 126)\n",
      "('son', 29)\n",
      "('to', 438)\n",
      "('Gloucester', 26)\n",
      "\n"
     ]
    }
   ],
   "source": [
    "# Sample the first 20 results - no ordering\n",
    "run('head -n 20 {}-00000-of-*'.format(outputs_prefix))"
   ]
  },
  {
   "cell_type": "code",
   "execution_count": null,
   "id": "83a70244",
   "metadata": {},
   "outputs": [],
   "source": []
  }
 ],
 "metadata": {
  "kernelspec": {
   "display_name": "Python 3",
   "language": "python",
   "name": "python3"
  },
  "language_info": {
   "codemirror_mode": {
    "name": "ipython",
    "version": 3
   },
   "file_extension": ".py",
   "mimetype": "text/x-python",
   "name": "python",
   "nbconvert_exporter": "python",
   "pygments_lexer": "ipython3",
   "version": "3.7.11"
  }
 },
 "nbformat": 4,
 "nbformat_minor": 5
}
