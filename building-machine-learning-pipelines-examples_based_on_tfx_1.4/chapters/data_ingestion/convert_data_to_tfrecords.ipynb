{
 "cells": [
  {
   "cell_type": "code",
   "execution_count": 2,
   "id": "a041964e",
   "metadata": {},
   "outputs": [],
   "source": [
    "import csv\n",
    "import tensorflow as tf\n",
    "from tqdm import tqdm"
   ]
  },
  {
   "cell_type": "code",
   "execution_count": 3,
   "id": "64872c2a",
   "metadata": {},
   "outputs": [],
   "source": [
    "def _bytes_feature(value):\n",
    "    return tf.train.Feature(bytes_list=tf.train.BytesList(value=[value.encode()]))"
   ]
  },
  {
   "cell_type": "code",
   "execution_count": 4,
   "id": "9d6525fd",
   "metadata": {},
   "outputs": [],
   "source": [
    "def _int64_feature(value):\n",
    "    return tf.train.Feature(int64_list=tf.train.Int64List(value=[value]))"
   ]
  },
  {
   "cell_type": "code",
   "execution_count": 5,
   "id": "c0206134",
   "metadata": {},
   "outputs": [],
   "source": [
    "def clean_rows(row):\n",
    "    if not row[\"zip_code\"]:\n",
    "        row[\"zip_code\"] = \"99999\"\n",
    "    return row"
   ]
  },
  {
   "cell_type": "code",
   "execution_count": 6,
   "id": "c91ff24c",
   "metadata": {},
   "outputs": [],
   "source": [
    "def convert_zipcode_to_int(zipcode):\n",
    "    if isinstance(zipcode, str) and \"XX\" in zipcode:\n",
    "        zipcode = zipcode.replace(\"XX\", \"00\")\n",
    "    int_zipcode = int(zipcode)\n",
    "    return int_zipcode"
   ]
  },
  {
   "cell_type": "code",
   "execution_count": 9,
   "id": "a13adf81",
   "metadata": {},
   "outputs": [],
   "source": [
    "original_data_file = \"/home/lunet/ttrmc/mlops/building-machine-learning-pipelines/building-machine-learning-pipelines-examples_based_on_tfx_1.4/data/consumer_complaints_with_narrative.csv\"\n",
    "tfrecords_filename = \"consumer-complaints.tfrecords\"\n",
    "tf_record_writer = tf.io.TFRecordWriter(tfrecords_filename)"
   ]
  },
  {
   "cell_type": "code",
   "execution_count": 10,
   "id": "6633ff6a",
   "metadata": {},
   "outputs": [
    {
     "name": "stderr",
     "output_type": "stream",
     "text": [
      "66799it [00:05, 12678.03it/s]\n"
     ]
    }
   ],
   "source": [
    "with open(original_data_file) as csv_file:\n",
    "    reader = csv.DictReader(csv_file, delimiter=\",\", quotechar='\"')\n",
    "    for row in tqdm(reader):\n",
    "        row = clean_rows(row)\n",
    "        example = tf.train.Example(\n",
    "            features=tf.train.Features(\n",
    "                feature={\n",
    "                    \"product\": _bytes_feature(row[\"product\"]),\n",
    "                    \"sub_product\": _bytes_feature(row[\"sub_product\"]),\n",
    "                    \"issue\": _bytes_feature(row[\"issue\"]),\n",
    "                    \"sub_issue\": _bytes_feature(row[\"sub_issue\"]),\n",
    "                    \"state\": _bytes_feature(row[\"state\"]),\n",
    "                    \"zip_code\": _int64_feature(convert_zipcode_to_int(row[\"zip_code\"])),\n",
    "                    \"company\": _bytes_feature(row[\"company\"]),\n",
    "                    \"company_response\": _bytes_feature(row[\"company_response\"]),\n",
    "                    \"timely_response\": _bytes_feature(row[\"timely_response\"]),\n",
    "                    \"consumer_disputed\": _bytes_feature(row[\"consumer_disputed\"]),\n",
    "                }\n",
    "            )\n",
    "        )\n",
    "        tf_record_writer.write(example.SerializeToString())\n",
    "    tf_record_writer.close()"
   ]
  },
  {
   "cell_type": "code",
   "execution_count": null,
   "id": "445c686e",
   "metadata": {},
   "outputs": [],
   "source": []
  }
 ],
 "metadata": {
  "kernelspec": {
   "display_name": "Python 3",
   "language": "python",
   "name": "python3"
  },
  "language_info": {
   "codemirror_mode": {
    "name": "ipython",
    "version": 3
   },
   "file_extension": ".py",
   "mimetype": "text/x-python",
   "name": "python",
   "nbconvert_exporter": "python",
   "pygments_lexer": "ipython3",
   "version": "3.8.12"
  }
 },
 "nbformat": 4,
 "nbformat_minor": 5
}
