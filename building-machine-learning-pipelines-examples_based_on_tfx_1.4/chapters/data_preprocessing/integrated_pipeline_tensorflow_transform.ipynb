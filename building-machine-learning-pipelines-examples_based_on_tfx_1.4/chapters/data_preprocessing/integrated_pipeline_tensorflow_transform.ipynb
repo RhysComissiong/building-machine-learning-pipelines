{
 "cells": [
  {
   "cell_type": "code",
   "execution_count": 1,
   "id": "063bf1b7",
   "metadata": {},
   "outputs": [],
   "source": [
    "import tensorflow as tf\n",
    "import tensorflow_transform as tft\n",
    "\n",
    "LABEL_KEY = \"consumer_disputed\"\n",
    "\n",
    "# Feature name, feature dimensionality\n",
    "ONE_HOT_FEATURES = {\n",
    "    \"product\": 11,\n",
    "    \"sub_product\": 45,\n",
    "    \"company_response\": 5,\n",
    "    \"state\": 60,\n",
    "    \"issue\": 90\n",
    "}\n",
    "\n",
    "# Feature name, bucket count\n",
    "BUCKET_FEATURES = {\n",
    "    \"zip_code\": 10\n",
    "}\n",
    "\n",
    "# Feature name, value is unused\n",
    "TEXT_FEATURES = {\n",
    "    \"consumer_complaint_narrative\": None\n",
    "}"
   ]
  },
  {
   "cell_type": "code",
   "execution_count": 2,
   "id": "0e5f69d9",
   "metadata": {},
   "outputs": [],
   "source": [
    "def transformed_name(key):\n",
    "    return key + '_xf'"
   ]
  },
  {
   "cell_type": "code",
   "execution_count": 3,
   "id": "045d90fc",
   "metadata": {},
   "outputs": [],
   "source": [
    "# helper function to convert sparse to dense features\n",
    "\n",
    "def fill_in_missing(x):\n",
    "    default_value = '' if x.dtype == tf.string or to_string else 0\n",
    "    if type(x) == tf.SparseTensor:\n",
    "        x = tf.sparse.to_dense(\n",
    "            tf.SparseTensor(x.indices, x.values, [x.dense_shape[0],1]),default_value)\n",
    "        return tf.squeeze(x,axis=1)"
   ]
  },
  {
   "cell_type": "code",
   "execution_count": 4,
   "id": "a677e784",
   "metadata": {},
   "outputs": [],
   "source": [
    "# helper function converts a given index to a one-hot encoded representation\n",
    "\n",
    "def convert_num_to_one_hot(label_tensor,num_labels=2):\n",
    "    one_hot_tensor = tf.one_hot(label_tensor,num_labels)\n",
    "    return tf.reshape(one_hot_tensor, [-1, num_labels])"
   ]
  },
  {
   "cell_type": "code",
   "execution_count": 5,
   "id": "8e23467f",
   "metadata": {},
   "outputs": [],
   "source": [
    "# helper function to convert zip codes represented as strings to float values\n",
    "\n",
    "def convert_zip_code(zip_code):\n",
    "    if zip_code == '':\n",
    "        zip_code = \"00000\"\n",
    "    zip_code = tf.strings.regex_replace(zip_code, r'X{0,5}',\"0\")\n",
    "    zip_code = tf.strings.to_number(zip_code, out_type=tf.float32)\n",
    "    return zip_code"
   ]
  },
  {
   "cell_type": "code",
   "execution_count": 6,
   "id": "cc96c40d",
   "metadata": {},
   "outputs": [],
   "source": [
    "def preprocessing_fn(inputs):\n",
    "    outputs = {}\n",
    "    for key in ONE_HOT_FEATURES.keys():\n",
    "        dim = ONE_HOT_FEATURES[key]\n",
    "        index = tft.compute_and_apply_vocabulary(\n",
    "            fill_in_missing(inputs[key]), top_k=dim + 1)\n",
    "        outputs[transformed_name(key)] = convert_num_to_one_hot(\n",
    "            index, num_labels=dim + 1)\n",
    "        ...\n",
    "        return outputs"
   ]
  },
  {
   "cell_type": "code",
   "execution_count": 7,
   "id": "2600475d",
   "metadata": {},
   "outputs": [
    {
     "ename": "NameError",
     "evalue": "name 'inputs' is not defined",
     "output_type": "error",
     "traceback": [
      "\u001b[0;31m---------------------------------------------------------------------------\u001b[0m",
      "\u001b[0;31mNameError\u001b[0m                                 Traceback (most recent call last)",
      "\u001b[0;32m<ipython-input-7-a14d3070eddf>\u001b[0m in \u001b[0;36m<module>\u001b[0;34m\u001b[0m\n\u001b[1;32m      1\u001b[0m \u001b[0;32mfor\u001b[0m \u001b[0mkey\u001b[0m\u001b[0;34m,\u001b[0m \u001b[0mbucket_count\u001b[0m \u001b[0;32min\u001b[0m \u001b[0mBUCKET_FEATURES\u001b[0m\u001b[0;34m.\u001b[0m\u001b[0mitems\u001b[0m\u001b[0;34m(\u001b[0m\u001b[0;34m)\u001b[0m\u001b[0;34m:\u001b[0m\u001b[0;34m\u001b[0m\u001b[0;34m\u001b[0m\u001b[0m\n\u001b[1;32m      2\u001b[0m     temp_feature = tft.bucketize(\n\u001b[0;32m----> 3\u001b[0;31m             \u001b[0mconvert_zip_code\u001b[0m\u001b[0;34m(\u001b[0m\u001b[0mfill_in_missing\u001b[0m\u001b[0;34m(\u001b[0m\u001b[0minputs\u001b[0m\u001b[0;34m[\u001b[0m\u001b[0mkey\u001b[0m\u001b[0;34m]\u001b[0m\u001b[0;34m)\u001b[0m\u001b[0;34m)\u001b[0m\u001b[0;34m,\u001b[0m\u001b[0;34m\u001b[0m\u001b[0;34m\u001b[0m\u001b[0m\n\u001b[0m\u001b[1;32m      4\u001b[0m             \u001b[0mbucket_count\u001b[0m\u001b[0;34m,\u001b[0m\u001b[0;34m\u001b[0m\u001b[0;34m\u001b[0m\u001b[0m\n\u001b[1;32m      5\u001b[0m             always_return_num_quantiles=False)\n",
      "\u001b[0;31mNameError\u001b[0m: name 'inputs' is not defined"
     ]
    }
   ],
   "source": [
    "for key, bucket_count in BUCKET_FEATURES.items():\n",
    "    temp_feature = tft.bucketize(\n",
    "            convert_zip_code(fill_in_missing(inputs[key])),\n",
    "            bucket_count,\n",
    "            always_return_num_quantiles=False)\n",
    "    outputs[transformed_name(key)] = convert_num_to_one_hot(\n",
    "            temp_feature,\n",
    "            num_labels=bucket_count + 1)"
   ]
  },
  {
   "cell_type": "code",
   "execution_count": 8,
   "id": "0fbdfa1b",
   "metadata": {},
   "outputs": [
    {
     "ename": "NameError",
     "evalue": "name 'inputs' is not defined",
     "output_type": "error",
     "traceback": [
      "\u001b[0;31m---------------------------------------------------------------------------\u001b[0m",
      "\u001b[0;31mNameError\u001b[0m                                 Traceback (most recent call last)",
      "\u001b[0;32m<ipython-input-8-696c91932f0f>\u001b[0m in \u001b[0;36m<module>\u001b[0;34m\u001b[0m\n\u001b[1;32m      1\u001b[0m \u001b[0;32mfor\u001b[0m \u001b[0mkey\u001b[0m \u001b[0;32min\u001b[0m \u001b[0mTEXT_FEATURES\u001b[0m\u001b[0;34m.\u001b[0m\u001b[0mkeys\u001b[0m\u001b[0;34m(\u001b[0m\u001b[0;34m)\u001b[0m\u001b[0;34m:\u001b[0m\u001b[0;34m\u001b[0m\u001b[0;34m\u001b[0m\u001b[0m\n\u001b[1;32m      2\u001b[0m     \u001b[0moutputs\u001b[0m\u001b[0;34m[\u001b[0m\u001b[0mtransformed_name\u001b[0m\u001b[0;34m(\u001b[0m\u001b[0mkey\u001b[0m\u001b[0;34m)\u001b[0m\u001b[0;34m]\u001b[0m \u001b[0;34m=\u001b[0m\u001b[0;31m \u001b[0m\u001b[0;31m\\\u001b[0m\u001b[0;34m\u001b[0m\u001b[0;34m\u001b[0m\u001b[0m\n\u001b[0;32m----> 3\u001b[0;31m         \u001b[0mfill_in_missing\u001b[0m\u001b[0;34m(\u001b[0m\u001b[0minputs\u001b[0m\u001b[0;34m[\u001b[0m\u001b[0mkey\u001b[0m\u001b[0;34m]\u001b[0m\u001b[0;34m)\u001b[0m\u001b[0;34m\u001b[0m\u001b[0;34m\u001b[0m\u001b[0m\n\u001b[0m\u001b[1;32m      4\u001b[0m \u001b[0;34m\u001b[0m\u001b[0m\n\u001b[1;32m      5\u001b[0m \u001b[0moutputs\u001b[0m\u001b[0;34m[\u001b[0m\u001b[0mtransformed_name\u001b[0m\u001b[0;34m(\u001b[0m\u001b[0mLABEL_KEY\u001b[0m\u001b[0;34m)\u001b[0m\u001b[0;34m]\u001b[0m \u001b[0;34m=\u001b[0m \u001b[0mfill_in_missing\u001b[0m\u001b[0;34m(\u001b[0m\u001b[0minputs\u001b[0m\u001b[0;34m[\u001b[0m\u001b[0mLABEL_KEY\u001b[0m\u001b[0;34m]\u001b[0m\u001b[0;34m)\u001b[0m\u001b[0;34m\u001b[0m\u001b[0;34m\u001b[0m\u001b[0m\n",
      "\u001b[0;31mNameError\u001b[0m: name 'inputs' is not defined"
     ]
    }
   ],
   "source": [
    "for key in TEXT_FEATURES.keys():\n",
    "    outputs[transformed_name(key)] = \\\n",
    "        fill_in_missing(inputs[key])\n",
    "    \n",
    "outputs[transformed_name(LABEL_KEY)] = fill_in_missing(inputs[LABEL_KEY])"
   ]
  },
  {
   "cell_type": "markdown",
   "id": "12f08450",
   "metadata": {},
   "source": [
    "## THIS IS NOT SUPPOSED TO BE A JUPYTER NOTEBOOK - THIS IS module.py and should be passed into transform as:"
   ]
  },
  {
   "cell_type": "code",
   "execution_count": null,
   "id": "c42a3508",
   "metadata": {},
   "outputs": [],
   "source": [
    "transform = Transform(\n",
    "    examples=example_gen.outputs['examples'],\n",
    "    schema=schema_gen.outputs['schema'],\n",
    "    module_file=os.path.abspath(\"module.py\"))\n",
    "context.run(transform)"
   ]
  }
 ],
 "metadata": {
  "kernelspec": {
   "display_name": "Python 3",
   "language": "python",
   "name": "python3"
  },
  "language_info": {
   "codemirror_mode": {
    "name": "ipython",
    "version": 3
   },
   "file_extension": ".py",
   "mimetype": "text/x-python",
   "name": "python",
   "nbconvert_exporter": "python",
   "pygments_lexer": "ipython3",
   "version": "3.8.12"
  }
 },
 "nbformat": 4,
 "nbformat_minor": 5
}
